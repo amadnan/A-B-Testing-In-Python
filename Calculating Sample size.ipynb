{
 "cells": [
  {
   "cell_type": "markdown",
   "metadata": {},
   "source": [
    "**# Calculating Sample size and Power Calculator**\n"
   ]
  },
  {
   "cell_type": "code",
   "execution_count": 1,
   "metadata": {},
   "outputs": [],
   "source": [
    "from scipy import stats"
   ]
  },
  {
   "cell_type": "code",
   "execution_count": 2,
   "metadata": {},
   "outputs": [],
   "source": [
    "def bionomial_sample_size(metric, mde, alpha, beta):\n",
    "    # standard normal distribution to determine z-values\n",
    "    snd = stats.norm(0,1)\n",
    "    Z_beta = snd.ppf(1-beta)\n",
    "    print(Z_beta)\n",
    "\n",
    "    Z_alpha = snd.ppf(1-(alpha/2))\n",
    "    print(Z_alpha)\n",
    "    # average of probabilities from both groups\n",
    "    p = (metric + metric + mde) / 2\n",
    "    print(p)\n",
    "\n",
    "    N = (2 * p * (1 - p) * (0.84 + 1.96)**2 / mde**2)\n",
    "\n",
    "    return N"
   ]
  },
  {
   "cell_type": "code",
   "execution_count": 3,
   "metadata": {},
   "outputs": [
    {
     "name": "stdout",
     "output_type": "stream",
     "text": [
      "0.8416212335729143\n",
      "1.959963984540054\n",
      "0.34\n"
     ]
    },
    {
     "data": {
      "text/plain": [
       "8796.479999999998"
      ]
     },
     "execution_count": 3,
     "metadata": {},
     "output_type": "execute_result"
    }
   ],
   "source": [
    "bionomial_sample_size(metric=0.33, mde=0.02, alpha=0.05, beta=0.2)"
   ]
  },
  {
   "cell_type": "code",
   "execution_count": 4,
   "metadata": {},
   "outputs": [],
   "source": [
    "def continuos_sample_size(metric, mde, sd, alpha, beta):\n",
    "    # standard normal distribution to determine z-values\n",
    "    snd = stats.norm(0, 1)\n",
    "\n",
    "    Z_beta = snd.ppf(1-beta)\n",
    "    print(Z_beta)\n",
    "\n",
    "    Z_alpha = snd.ppf(1-alpha/2)\n",
    "    print(Z_alpha)\n",
    "\n",
    "    N = (2 * sd**2 * (Z_beta + Z_alpha)**2/ mde**2)\n",
    "\n",
    "    return N"
   ]
  },
  {
   "cell_type": "code",
   "execution_count": 5,
   "metadata": {},
   "outputs": [
    {
     "name": "stdout",
     "output_type": "stream",
     "text": [
      "0.8416212335729143\n",
      "1.959963984540054\n"
     ]
    },
    {
     "data": {
      "text/plain": [
       "1.4443682906698845"
      ]
     },
     "execution_count": 5,
     "metadata": {},
     "output_type": "execute_result"
    }
   ],
   "source": [
    "continuos_sample_size(metric=30673, mde=300, sd=91, alpha=0.05, beta=0.2)"
   ]
  },
  {
   "cell_type": "code",
   "execution_count": null,
   "metadata": {},
   "outputs": [],
   "source": []
  }
 ],
 "metadata": {
  "kernelspec": {
   "display_name": "Python 3.11.0 64-bit",
   "language": "python",
   "name": "python3"
  },
  "language_info": {
   "codemirror_mode": {
    "name": "ipython",
    "version": 3
   },
   "file_extension": ".py",
   "mimetype": "text/x-python",
   "name": "python",
   "nbconvert_exporter": "python",
   "pygments_lexer": "ipython3",
   "version": "3.11.0"
  },
  "orig_nbformat": 4,
  "vscode": {
   "interpreter": {
    "hash": "c261aea317cc0286b3b3261fbba9abdec21eaa57589985bb7a274bf54d6cc0a7"
   }
  }
 },
 "nbformat": 4,
 "nbformat_minor": 2
}
